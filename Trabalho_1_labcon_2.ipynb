{
  "cells": [
    {
      "cell_type": "code",
      "execution_count": null,
      "metadata": {
        "id": "PIsY2DQWIjRX"
      },
      "outputs": [],
      "source": [
        "import math as math\n",
        "import pandas as pd\n",
        "import numpy as np\n",
        "import scipy as sp\n",
        "import cmath as cm\n",
        "import matplotlib.pyplot as plt\n",
        "import sys\n",
        "import sympy as sym\n",
        "from sympy import symbols\n",
        "#import control as ct"
      ]
    },
    {
      "cell_type": "code",
      "execution_count": null,
      "metadata": {
        "id": "fCkIRF9LIoSn"
      },
      "outputs": [],
      "source": [
        "# sintaxe para números complexos (ângulos fornecidos em graus)\n",
        "# a = complex(A,B) = A+jB,  A = a.real,  B = a.imag,  |a| = abs(a),  fase(a) = np.degrees(cm.phase(a))\n",
        "j = complex(0,1)\n",
        "\n",
        "# sintaxe para função de transferência\n",
        "#s = ct.TransferFunction.s\n",
        "#z = ct.TransferFunction.z"
      ]
    },
    {
      "cell_type": "code",
      "execution_count": null,
      "metadata": {
        "id": "XSYYUYDqXj7g"
      },
      "outputs": [],
      "source": [
        "#t(s)=b/(a0*s^2+a1*s+a2)\n",
        "#t(s)=k*wn^2/(s^2+2*zeta*wn*s+wn^2)\n",
        "def parametros(b,a1,a2,n=1):\n",
        "    wn=(a2*1.0)**0.5\n",
        "    k=b*1.0/a2\n",
        "    zeta=a1*1.0/(2*wn)\n",
        "    tr=(math.pi-math.atan(((1-zeta**2)**0.5)/zeta))/(wn*(1-zeta**2)**0.5)\n",
        "    tp=n*math.pi/(wn*(1-zeta**2)**0.5)\n",
        "    Mp=k*(1+math.exp((-zeta*math.pi)/(1-zeta**2)**0.5))\n",
        "    PO=math.exp((-zeta*math.pi)/(1-zeta**2)**0.5)*100\n",
        "    ts=4.0/(zeta*wn)\n",
        "    print (\"frequencia natural wn = \", str(wn))\n",
        "    print (\"ganho DC k = \", str(k))\n",
        "    print (\"coeficiente de amortecimento zeta = \", str(zeta))\n",
        "    print (\"tempo de subida tr = \", str(tr))\n",
        "    print (\"tempo de pico tp = \", str(tp))\n",
        "    print (\"valor de pico Mp = \", str(Mp))\n",
        "    print (\"tempo de acomodacao ts = \", str(ts))\n",
        "    print (\"percentual de sobresinal PO = \", str(PO), \"%\")\n",
        "    return\n",
        "\n",
        "def Zeta(PO):\n",
        "    Zeta=((math.log(PO/100.0,math.exp(1)))**2/(((math.pi)**2)+(math.log(PO/100.0,math.exp(1)))**2))**0.5\n",
        "    print (\"coeficiente de amortecimento zeta = \", str(Zeta))\n",
        "    return Zeta\n",
        "\n",
        "def k(Mp,zeta):\n",
        "    k=Mp*1.0/(1+math.exp((-zeta*math.pi)/(1-zeta**2)**0.5))\n",
        "    print (\"ganho DC k = \", str(k))\n",
        "    return k\n",
        "\n",
        "def wn_tp(tp,zeta,n=1):\n",
        "    wn=n*math.pi/(tp*(1-zeta**2)**0.5)\n",
        "    print (\"frequencia natural wn = \", str(wn))\n",
        "    return wn\n",
        "\n",
        "def wn_tr(tr,zeta):\n",
        "    wn=(math.pi-math.atan(((1-zeta**2)**0.5)/zeta))/(tr*(1-zeta**2)**0.5)\n",
        "    print (\"frequencia natural wn = \", str(wn))\n",
        "    return wn\n",
        "\n",
        "def omegaene(zeta, T_s): # explicação\n",
        "\n",
        "  omega_n = 4 / (zeta*T_s)\n",
        "  print (\"frequencia natural wn = \", str(omega_n))\n",
        "\n",
        "  return omega_n\n",
        "\n",
        "\n",
        "def Kp(zeta, omega_n, tau, K_barra): # explicação\n",
        "\n",
        "  K_p = (2*zeta*omega_n*tau - 1)/K_barra\n",
        "  print (\"Kp = \", str(K_p))\n",
        "\n",
        "  return K_p\n",
        "\n",
        "def Ti(omega_n, tau, K_barra, K_p): # explicação\n",
        "\n",
        "  Fi = (pow(omega_n, 2)*tau) / (K_barra*K_p)\n",
        "  print (\"Ti = \", str(pow(Fi, -1)))\n",
        "  temp = pow(Fi, -1)\n",
        "\n",
        "  return temp\n",
        "\n",
        "def Ki(K_p, T_i, T): # explicação\n",
        "\n",
        "  K_i = K_p*T / (2*T_i)\n",
        "  print (\"Ki = \", str(K_i))\n",
        "\n",
        "  return K_i"
      ]
    },
    {
      "cell_type": "code",
      "execution_count": null,
      "metadata": {
        "id": "tSWQeR3-aurN"
      },
      "outputs": [],
      "source": [
        "PO = 4 # percentual de ultrapassagem = 5%\n",
        "Ts = 0.4 # tempo de acomodação = 0.5s\n",
        "tau = 0.21 # período motor CC\n",
        "K_barra = 1.2592 # ganho motor CC\n",
        "T = 0.001 # período de amostragem de 1ms"
      ]
    },
    {
      "cell_type": "code",
      "execution_count": null,
      "metadata": {
        "colab": {
          "base_uri": "https://localhost:8080/"
        },
        "id": "y2F-rbnd5zrS",
        "outputId": "09203010-5e18-4027-d275-9b64b7619afc"
      },
      "outputs": [
        {
          "name": "stdout",
          "output_type": "stream",
          "text": [
            "coeficiente de amortecimento zeta =  0.7156456898655452\n",
            "frequencia natural wn =  13.973395133391762\n",
            "Kp =  2.5412960609911055\n",
            "Ti =  0.07804171480733442\n",
            "Ki =  0.016281651852890044\n"
          ]
        }
      ],
      "source": [
        "zeta = Zeta(PO)\n",
        "omega_n = omegaene(zeta, Ts)\n",
        "K_p = Kp(zeta, omega_n, tau, K_barra)\n",
        "T_i = Ti(omega_n, tau, K_barra, K_p)\n",
        "K_i = Ki(K_p, T_i, T)"
      ]
    }
  ],
  "metadata": {
    "colab": {
      "collapsed_sections": [],
      "name": "Cópia de Trabalho 1 labcon 2.ipynb",
      "provenance": []
    },
    "kernelspec": {
      "display_name": "Python 3.6.4 32-bit",
      "language": "python",
      "name": "python3"
    },
    "language_info": {
      "name": "python",
      "version": "3.6.4"
    },
    "vscode": {
      "interpreter": {
        "hash": "ab881b33566290240461bd75fb145e15903747f8c26a6662405202841621d1de"
      }
    }
  },
  "nbformat": 4,
  "nbformat_minor": 0
}
